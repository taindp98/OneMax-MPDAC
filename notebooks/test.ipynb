{
 "cells": [
  {
   "cell_type": "markdown",
   "metadata": {},
   "source": [
    "## Testing on-the-fly using trained DDQNs\n",
    "\n",
    "This notebook contains the workflow for testing the best RL models"
   ]
  },
  {
   "cell_type": "markdown",
   "metadata": {},
   "source": [
    "## Import the necessary packages and developed modules"
   ]
  },
  {
   "cell_type": "code",
   "execution_count": 16,
   "metadata": {},
   "outputs": [],
   "source": [
    "import sys\n",
    "\n",
    "sys.path.append(\"..\")\n",
    "from onemax_mpdac.models.factored_ddqn import BranchingQNetwork\n",
    "from onemax_mpdac.eval import ollga_mp_single_run\n",
    "from joblib import Parallel, delayed\n",
    "import torch\n",
    "import numpy as np"
   ]
  },
  {
   "cell_type": "markdown",
   "metadata": {},
   "source": [
    "## Example Testing Configuration\n",
    "- problem_size: 500\n",
    "- state_dim: 2\n",
    "- net_arch: [50, 50]\n",
    "- n_eval_episodes: 1000\n",
    "- num_workers: 4"
   ]
  },
  {
   "cell_type": "markdown",
   "metadata": {},
   "source": [
    "## Initialize Network and Load the checkpoint\n"
   ]
  },
  {
   "cell_type": "code",
   "execution_count": 17,
   "metadata": {},
   "outputs": [
    {
     "name": "stderr",
     "output_type": "stream",
     "text": [
      "/var/folders/21/36874r7s571dshsfkfjy__tw0000gn/T/ipykernel_9489/3746932070.py:8: FutureWarning: You are using `torch.load` with `weights_only=False` (the current default value), which uses the default pickle module implicitly. It is possible to construct malicious pickle data which will execute arbitrary code during unpickling (See https://github.com/pytorch/pytorch/blob/main/SECURITY.md#untrusted-models for more details). In a future release, the default value for `weights_only` will be flipped to `True`. This limits the functions that could be executed during unpickling. Arbitrary objects will no longer be allowed to be loaded via this mode unless they are explicitly allowlisted by the user via `torch.serialization.add_safe_globals`. We recommend you start setting `weights_only=True` for any use case where you don't have full control of the loaded file. Please open an issue on GitHub for any issues related to this experimental feature.\n",
      "  q_net.load_state_dict(torch.load(f\"../resources/ddqn_ckpts/onemax_n{n}_fmp_as_09998.pt\"))\n"
     ]
    },
    {
     "data": {
      "text/plain": [
       "<All keys matched successfully>"
      ]
     },
     "execution_count": 17,
     "metadata": {},
     "output_type": "execute_result"
    }
   ],
   "source": [
    "n = 500\n",
    "q_net = BranchingQNetwork(\n",
    "    state_dim=2,\n",
    "    action_dim=7,\n",
    "    n_action=4,\n",
    "    net_arch=[50, 50],\n",
    ")\n",
    "q_net.load_state_dict(\n",
    "    torch.load(f\"../resources/ddqn_ckpts/onemax_n{n}_fmp_as_09998.pt\")\n",
    ")"
   ]
  },
  {
   "cell_type": "markdown",
   "metadata": {},
   "source": [
    "## Set the configuration for the benchmark\n"
   ]
  },
  {
   "cell_type": "code",
   "execution_count": 18,
   "metadata": {},
   "outputs": [],
   "source": [
    "bench_params = {\n",
    "    \"name\": \"OLLGAFactTheory\",\n",
    "    \"discrete_action\": True,\n",
    "    \"action_choices\": [\n",
    "        [1, 2, 4, 8, 16, 32, 64],\n",
    "        [0.25, 0.542, 0.833, 1.125, 1.417, 1.708, 2.0],\n",
    "        [1, 2, 4, 8, 16, 32, 64],\n",
    "        [0.25, 0.542, 0.833, 1.125, 1.417, 1.708, 2.0],\n",
    "    ],\n",
    "    \"problem\": \"OneMax\",\n",
    "    \"instance_set_path\": f\"om_ollga_{n}_medium.csv\",\n",
    "    \"observation_description\": \"n,f(x)\",\n",
    "    \"reward_choice\": \"imp_minus_evals_shifting\",\n",
    "    \"alias\": \"evenly_spread\",\n",
    "    \"seed\": 123,\n",
    "}\n",
    "eval_env_params = {\"reward_choice\": \"minus_evals\", \"cutoff\": 100000.0}"
   ]
  },
  {
   "cell_type": "markdown",
   "metadata": {},
   "source": [
    "## Get the policy from the learned Factored DDQN\n"
   ]
  },
  {
   "cell_type": "code",
   "execution_count": 19,
   "metadata": {},
   "outputs": [],
   "source": [
    "def get_actions_for_all_states(bench_params: dict, model: BranchingQNetwork, n: int):\n",
    "    with torch.no_grad():\n",
    "        all_states = torch.tensor(np.array([[n, fx] for fx in range(0, n)])).float()\n",
    "        q_values = model(all_states)\n",
    "        acts = q_values.argmax(dim=2).cpu().numpy().tolist()\n",
    "    policy_unclipped = acts\n",
    "    policy = []\n",
    "    for fitness, sel in enumerate(policy_unclipped):\n",
    "        lbd1_idx, mr_idx, lbd2_idx, cr_idx = sel\n",
    "        lambda1 = bench_params[\"action_choices\"][0][lbd1_idx]\n",
    "        mutation_rate = bench_params[\"action_choices\"][1][mr_idx]\n",
    "        lambda2 = bench_params[\"action_choices\"][2][lbd2_idx]\n",
    "        crossover_rate = bench_params[\"action_choices\"][3][cr_idx]\n",
    "        policy.append(\n",
    "            [\n",
    "                np.int64(lambda1),\n",
    "                np.float64(mutation_rate),\n",
    "                np.int64(lambda2),\n",
    "                np.float64(crossover_rate),\n",
    "            ]\n",
    "        )\n",
    "    return policy\n",
    "\n",
    "\n",
    "policy = get_actions_for_all_states(bench_params, q_net, n)"
   ]
  },
  {
   "cell_type": "markdown",
   "metadata": {},
   "source": [
    "## Run test and observe the ERT"
   ]
  },
  {
   "cell_type": "code",
   "execution_count": 21,
   "metadata": {},
   "outputs": [
    {
     "name": "stdout",
     "output_type": "stream",
     "text": [
      "Runtime: 2423.48 ± 229.28\n"
     ]
    }
   ],
   "source": [
    "runtimes = Parallel(n_jobs=4)(\n",
    "    delayed(ollga_mp_single_run)(\n",
    "        bench_params=bench_params,\n",
    "        eval_env_params=eval_env_params,\n",
    "        policy=policy,\n",
    "        seed=i,\n",
    "    )\n",
    "    for i in range(100)\n",
    ")\n",
    "runtimes = np.array(runtimes)\n",
    "print(f\"Runtime: {runtimes.mean():.2f} ± {runtimes.std():.2f}\")"
   ]
  }
 ],
 "metadata": {
  "kernelspec": {
   "display_name": "dacbench",
   "language": "python",
   "name": "python3"
  },
  "language_info": {
   "codemirror_mode": {
    "name": "ipython",
    "version": 3
   },
   "file_extension": ".py",
   "mimetype": "text/x-python",
   "name": "python",
   "nbconvert_exporter": "python",
   "pygments_lexer": "ipython3",
   "version": "3.10.15"
  }
 },
 "nbformat": 4,
 "nbformat_minor": 2
}
